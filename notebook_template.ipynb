{
 "cells": [
  {
   "cell_type": "code",
   "execution_count": null,
   "metadata": {
    "id": "ur8xi4C7S06n"
   },
   "outputs": [],
   "source": [
    "# Copyright 2024 Google LLC\n",
    "#\n",
    "# Licensed under the Apache License, Version 2.0 (the \"License\");\n",
    "# you may not use this file except in compliance with the License.\n",
    "# You may obtain a copy of the License at\n",
    "#\n",
    "#     https://www.apache.org/licenses/LICENSE-2.0\n",
    "#\n",
    "# Unless required by applicable law or agreed to in writing, software\n",
    "# distributed under the License is distributed on an \"AS IS\" BASIS,\n",
    "# WITHOUT WARRANTIES OR CONDITIONS OF ANY KIND, either express or implied.\n",
    "# See the License for the specific language governing permissions and\n",
    "# limitations under the License."
   ]
  },
  {
   "cell_type": "markdown",
   "metadata": {
    "id": "JAPoU8Sm5E6e"
   },
   "source": [
    "# Prompt Design - Best Practices\n",
    "\n",
    "<table align=\"left\">\n",
    "  <td style=\"text-align: center\">\n",
    "    <a href=\"https://colab.research.google.com/github/GoogleCloudPlatform/generative-ai/blob/main/gemini/prompts/intro_prompt_design.ipynb\">\n",
    "      <img src=\"https://cloud.google.com/ml-engine/images/colab-logo-32px.png\" alt=\"Google Colaboratory logo\"><br> Open in Colab\n",
    "    </a>\n",
    "  </td>\n",
    "  <td style=\"text-align: center\">\n",
    "    <a href=\"https://console.cloud.google.com/vertex-ai/colab/import/https:%2F%2Fraw.githubusercontent.com%2FGoogleCloudPlatform%2Fgenerative-ai%2Fmain%2Fgemini%2Fprompts%2Fintro_prompt_design.ipynb\">\n",
    "      <img width=\"32px\" src=\"https://lh3.googleusercontent.com/JmcxdQi-qOpctIvWKgPtrzZdJJK-J3sWE1RsfjZNwshCFgE_9fULcNpuXYTilIR2hjwN\" alt=\"Google Cloud Colab Enterprise logo\"><br> Open in Colab Enterprise\n",
    "    </a>\n",
    "  </td>    \n",
    "  <td style=\"text-align: center\">\n",
    "    <a href=\"https://console.cloud.google.com/vertex-ai/workbench/deploy-notebook?download_url=https://raw.githubusercontent.com/GoogleCloudPlatform/generative-ai/main/gemini/prompts/intro_prompt_design.ipynb\">\n",
    "      <img src=\"https://lh3.googleusercontent.com/UiNooY4LUgW_oTvpsNhPpQzsstV5W8F7rYgxgGBD85cWJoLmrOzhVs_ksK_vgx40SHs7jCqkTkCk=e14-rj-sc0xffffff-h130-w32\" alt=\"Vertex AI logo\"><br> Open in Workbench\n",
    "    </a>\n",
    "  </td>\n",
    "  <td style=\"text-align: center\">\n",
    "    <a href=\"https://github.com/GoogleCloudPlatform/generative-ai/blob/main/gemini/prompts/intro_prompt_design.ipynb\">\n",
    "      <img src=\"https://cloud.google.com/ml-engine/images/github-logo-32px.png\" alt=\"GitHub logo\"><br> View on GitHub\n",
    "    </a>\n",
    "  </td>\n",
    "  <td style=\"text-align: center\">\n",
    "    <a href=\"https://goo.gle/4fWHlze\">\n",
    "      <img width=\"32px\" src=\"https://cdn.qwiklabs.com/assets/gcp_cloud-e3a77215f0b8bfa9b3f611c0d2208c7e8708ed31.svg\" alt=\"Google Cloud logo\"><br> Open in  Cloud Skills Boost\n",
    "    </a>\n",
    "  </td>\n",
    "</table>\n",
    "\n",
    "<div style=\"clear: both;\"></div>\n",
    "\n",
    "<b>Share to:</b>\n",
    "\n",
    "<a href=\"https://www.linkedin.com/sharing/share-offsite/?url=https%3A//github.com/GoogleCloudPlatform/generative-ai/blob/main/gemini/prompts/intro_prompt_design.ipynb\" target=\"_blank\">\n",
    "  <img width=\"20px\" src=\"https://upload.wikimedia.org/wikipedia/commons/8/81/LinkedIn_icon.svg\" alt=\"LinkedIn logo\">\n",
    "</a>\n",
    "\n",
    "<a href=\"https://bsky.app/intent/compose?text=https%3A//github.com/GoogleCloudPlatform/generative-ai/blob/main/gemini/prompts/intro_prompt_design.ipynb\" target=\"_blank\">\n",
    "  <img width=\"20px\" src=\"https://upload.wikimedia.org/wikipedia/commons/7/7a/Bluesky_Logo.svg\" alt=\"Bluesky logo\">\n",
    "</a>\n",
    "\n",
    "<a href=\"https://twitter.com/intent/tweet?url=https%3A//github.com/GoogleCloudPlatform/generative-ai/blob/main/gemini/prompts/intro_prompt_design.ipynb\" target=\"_blank\">\n",
    "  <img width=\"20px\" src=\"https://upload.wikimedia.org/wikipedia/commons/5/53/X_logo_2023_original.svg\" alt=\"X logo\">\n",
    "</a>\n",
    "\n",
    "<a href=\"https://reddit.com/submit?url=https%3A//github.com/GoogleCloudPlatform/generative-ai/blob/main/gemini/prompts/intro_prompt_design.ipynb\" target=\"_blank\">\n",
    "  <img width=\"20px\" src=\"https://redditinc.com/hubfs/Reddit%20Inc/Brand/Reddit_Logo.png\" alt=\"Reddit logo\">\n",
    "</a>\n",
    "\n",
    "<a href=\"https://www.facebook.com/sharer/sharer.php?u=https%3A//github.com/GoogleCloudPlatform/generative-ai/blob/main/gemini/prompts/intro_prompt_design.ipynb\" target=\"_blank\">\n",
    "  <img width=\"20px\" src=\"https://upload.wikimedia.org/wikipedia/commons/5/51/Facebook_f_logo_%282019%29.svg\" alt=\"Facebook logo\">\n",
    "</a>            "
   ]
  },
  {
   "cell_type": "markdown",
   "metadata": {
    "id": "84f0f73a0f76"
   },
   "source": [
    "| | |\n",
    "|-|-|\n",
    "|Author(s) | [Polong Lin](https://github.com/polong-lin), [Karl Weinmeister](https://github.com/kweinmeister) |"
   ]
  },
  {
   "cell_type": "markdown",
   "metadata": {
    "id": "tvgnzT1CKxrO"
   },
   "source": [
    "## Overview\n",
    "\n",
    "This notebook covers the essentials of prompt engineering, including some best practices.\n",
    "\n",
    "Learn more about prompt design in the [official documentation](https://cloud.google.com/vertex-ai/docs/generative-ai/text/text-overview).\n",
    "\n",
    "In this notebook, you learn best practices around prompt engineering -- how to design prompts to improve the quality of your responses.\n",
    "\n",
    "This notebook covers the following best practices for prompt engineering:\n",
    "\n",
    "- Be concise\n",
    "- Be specific and well-defined\n",
    "- Ask one task at a time\n",
    "- Turn generative tasks into classification tasks\n",
    "- Improve response quality by including examples"
   ]
  },
  {
   "cell_type": "markdown",
   "metadata": {
    "id": "61RBz8LLbxCR"
   },
   "source": [
    "## Getting Started"
   ]
  },
  {
   "cell_type": "markdown",
   "metadata": {
    "id": "No17Cw5hgx12"
   },
   "source": [
    "### Install Google Gen AI SDK\n"
   ]
  },
  {
   "cell_type": "code",
   "execution_count": 1,
   "metadata": {
    "id": "tFy3H3aPgx12",
    "tags": []
   },
   "outputs": [
    {
     "name": "stdout",
     "output_type": "stream",
     "text": [
      "Note: you may need to restart the kernel to use updated packages.\n"
     ]
    }
   ],
   "source": [
    "%pip install --upgrade --quiet google-genai"
   ]
  },
  {
   "cell_type": "markdown",
   "metadata": {
    "id": "R5Xep4W9lq-Z"
   },
   "source": [
    "### Restart runtime\n",
    "\n",
    "To use the newly installed packages in this Jupyter runtime, you must restart the runtime. You can do this by running the cell below, which will restart the current kernel."
   ]
  },
  {
   "cell_type": "code",
   "execution_count": 2,
   "metadata": {
    "id": "XRvKdaPDTznN",
    "tags": []
   },
   "outputs": [
    {
     "data": {
      "text/plain": [
       "{'status': 'ok', 'restart': True}"
      ]
     },
     "execution_count": 2,
     "metadata": {},
     "output_type": "execute_result"
    }
   ],
   "source": [
    "import IPython\n",
    "\n",
    "app = IPython.Application.instance()\n",
    "app.kernel.do_shutdown(True)"
   ]
  },
  {
   "cell_type": "markdown",
   "metadata": {
    "id": "SbmM4z7FOBpM"
   },
   "source": [
    "<div class=\"alert alert-block alert-warning\">\n",
    "<b>⚠️ The kernel is going to restart. Please wait until it is finished before continuing to the next step. ⚠️</b>\n",
    "</div>\n"
   ]
  },
  {
   "cell_type": "markdown",
   "metadata": {
    "id": "dmWOrTJ3gx13"
   },
   "source": [
    "### Authenticate your notebook environment (Colab only)\n",
    "\n",
    "Authenticate your environment on Google Colab.\n"
   ]
  },
  {
   "cell_type": "code",
   "execution_count": 1,
   "metadata": {
    "id": "NyKGtVQjgx13",
    "tags": []
   },
   "outputs": [],
   "source": [
    "import sys\n",
    "\n",
    "if \"google.colab\" in sys.modules:\n",
    "    from google.colab import auth\n",
    "\n",
    "    auth.authenticate_user()"
   ]
  },
  {
   "cell_type": "markdown",
   "metadata": {
    "id": "06489bd14f16"
   },
   "source": [
    "### Import libraries\n"
   ]
  },
  {
   "cell_type": "code",
   "execution_count": 2,
   "metadata": {
    "id": "154137022fb6",
    "tags": []
   },
   "outputs": [],
   "source": [
    "from IPython.display import Markdown, display\n",
    "from google import genai\n",
    "from google.genai.types import GenerateContentConfig"
   ]
  },
  {
   "cell_type": "markdown",
   "metadata": {
    "id": "DF4l8DTdWgPY"
   },
   "source": [
    "### Set Google Cloud project information and create client\n",
    "\n",
    "To get started using Vertex AI, you must have an existing Google Cloud project and [enable the Vertex AI API](https://console.cloud.google.com/flows/enableapi?apiid=aiplatform.googleapis.com).\n",
    "\n",
    "Learn more about [setting up a project and a development environment](https://cloud.google.com/vertex-ai/docs/start/cloud-environment)."
   ]
  },
  {
   "cell_type": "code",
   "execution_count": 3,
   "metadata": {
    "id": "Nqwi-5ufWp_B",
    "tags": []
   },
   "outputs": [],
   "source": [
    "import os\n",
    "\n",
    "PROJECT_ID = \"qwiklabs-gcp-01-e406c501047b\"  # @param {type: \"string\", placeholder: \"[your-project-id]\", isTemplate: true}\n",
    "if not PROJECT_ID or PROJECT_ID == \"qwiklabs-gcp-01-e406c501047b\":\n",
    "    PROJECT_ID = str(os.environ.get(\"GOOGLE_CLOUD_PROJECT\"))\n",
    "\n",
    "LOCATION = os.environ.get(\"GOOGLE_CLOUD_REGION\", \"us-east4\")"
   ]
  },
  {
   "cell_type": "code",
   "execution_count": 4,
   "metadata": {
    "id": "QqRWdPGmW3NJ",
    "tags": []
   },
   "outputs": [],
   "source": [
    "client = genai.Client(vertexai=True, project=PROJECT_ID, location=LOCATION)"
   ]
  },
  {
   "cell_type": "markdown",
   "metadata": {
    "id": "OnFPpCRtXRl4"
   },
   "source": [
    "### Load model\n",
    "\n",
    "Learn more about all [Gemini models on Vertex AI](https://cloud.google.com/vertex-ai/generative-ai/docs/learn/models#gemini-models)."
   ]
  },
  {
   "cell_type": "code",
   "execution_count": 5,
   "metadata": {
    "id": "IQYu_9SvXQah",
    "tags": []
   },
   "outputs": [],
   "source": [
    "MODEL_ID = \"gemini-2.0-flash-001\"  # @param {type: \"string\"}"
   ]
  },
  {
   "cell_type": "markdown",
   "metadata": {
    "id": "cVOtUNJ5X0PY"
   },
   "source": [
    "## Prompt engineering best practices"
   ]
  },
  {
   "cell_type": "markdown",
   "metadata": {
    "id": "uv_e0fEPX60q"
   },
   "source": [
    "Prompt engineering is all about how to design your prompts so that the response is what you were indeed hoping to see.\n",
    "\n",
    "The idea of using \"unfancy\" prompts is to minimize the noise in your prompt to reduce the possibility of the LLM misinterpreting the intent of the prompt. Below are a few guidelines on how to engineer \"unfancy\" prompts.\n",
    "\n",
    "In this section, you'll cover the following best practices when engineering prompts:\n",
    "\n",
    "* Be concise\n",
    "* Be specific, and well-defined\n",
    "* Ask one task at a time\n",
    "* Improve response quality by including examples\n",
    "* Turn generative tasks to classification tasks to improve safety"
   ]
  },
  {
   "cell_type": "markdown",
   "metadata": {
    "id": "0pY4XX0OX9_Y"
   },
   "source": [
    "### Be concise"
   ]
  },
  {
   "cell_type": "markdown",
   "metadata": {
    "id": "xlRpxyxGYA1K"
   },
   "source": [
    "🛑 Not recommended. The prompt below is unnecessarily verbose."
   ]
  },
  {
   "cell_type": "code",
   "execution_count": 6,
   "metadata": {
    "id": "YKV4G-CfXdbi",
    "tags": []
   },
   "outputs": [
    {
     "data": {
      "text/markdown": [
       "Here are some name ideas for a dried flower shop, playing on different angles:\n",
       "\n",
       "**Focusing on Preservation & Timelessness:**\n",
       "\n",
       "*   Everbloom\n",
       "*   Timeless Blooms\n",
       "*   Forever Flowers\n",
       "*   The Preserved Petal\n",
       "*   Eternal Eden\n",
       "*   Lasting Lilies\n",
       "*   Amber Blossom\n",
       "*   The Dried Daisy\n",
       "*   Fossil Flora\n",
       "\n",
       "**Highlighting the Artistic/Bohemian Vibe:**\n",
       "\n",
       "*   The Dusty Rose\n",
       "*   Boho Blooms\n",
       "*   Wild & Withered\n",
       "*   The Dried Flower Studio\n",
       "*   Dried Design Co.\n",
       "*   Arid Arrangements\n",
       "*   The Botanical Alchemist\n",
       "\n",
       "**Emphasizing Texture & Earthiness:**\n",
       "\n",
       "*   Whispers & Wheat\n",
       "*   Terra Flora\n",
       "*   The Rustic Bouquet\n",
       "*   Grounded Blooms\n",
       "*   Earthy Evergreens\n",
       "*   Dried Earth Flowers\n",
       "*   Pampas & Petals\n",
       "\n",
       "**Playing with Humor/Intrigue:**\n",
       "\n",
       "*   The Anti-Florist\n",
       "*   Deadly Beautiful\n",
       "*   Still Life Flowers\n",
       "*   Petrified Petals\n",
       "\n",
       "**Simple & Elegant:**\n",
       "\n",
       "*   Dried Flowers Only\n",
       "*   The Dry Bloom\n",
       "*   Dried Petals\n",
       "*   The Bloom Room\n",
       "*   Dried Floral\n",
       "\n",
       "**Tips for Choosing the Best Name:**\n",
       "\n",
       "*   **Consider your Target Audience:** Are you aiming for a modern, bohemian, or classic clientele?\n",
       "*   **Check Availability:** Make sure the name isn't already in use by another flower shop (especially in your area), and that the domain name and social media handles are available.\n",
       "*   **Say it Out Loud:**  Does the name roll off the tongue easily? Is it memorable?\n",
       "*   **Get Feedback:** Ask friends, family, or potential customers for their opinions.\n",
       "\n",
       "I hope this helps get you started! Good luck!\n"
      ],
      "text/plain": [
       "<IPython.core.display.Markdown object>"
      ]
     },
     "metadata": {},
     "output_type": "display_data"
    }
   ],
   "source": [
    "prompt = \"What do you think could be a good name for a flower shop that specializes in selling bouquets of dried flowers more than fresh flowers?\"\n",
    "\n",
    "response = client.models.generate_content(model=MODEL_ID, contents=prompt)\n",
    "display(Markdown(response.text))"
   ]
  },
  {
   "cell_type": "markdown",
   "metadata": {
    "id": "YrJexRHJYnmC"
   },
   "source": [
    "✅ Recommended. The prompt below is to the point and concise."
   ]
  },
  {
   "cell_type": "code",
   "execution_count": 7,
   "metadata": {
    "id": "VHetn9lCYrXB",
    "tags": []
   },
   "outputs": [
    {
     "data": {
      "text/markdown": [
       "Okay, here are some name suggestions for a dried flower shop, playing with different vibes:\n",
       "\n",
       "**Elegant & Classic:**\n",
       "\n",
       "*   The Everbloom Studio\n",
       "*   Petrified Petals\n",
       "*   Lasting Blooms\n",
       "*   The Dried Flower Emporium\n",
       "*   Forever Flora\n",
       "*   The Preserved Posy\n",
       "*   Golden Stems\n",
       "*   Timeless Blossoms\n",
       "\n",
       "**Modern & Chic:**\n",
       "\n",
       "*   Dried & Dusted\n",
       "*   The Still Life Florist\n",
       "*   Bloom & Echo\n",
       "*   The Dry Bloom Bar\n",
       "*   Eternal Flora\n",
       "*   Unwilted\n",
       "*   Sustain Bloom\n",
       "*   Dry Goods Floral\n",
       "*   Cultivated Decay\n",
       "\n",
       "**Rustic & Natural:**\n",
       "\n",
       "*   The Wildflower Keep\n",
       "*   Dust & Bloom\n",
       "*   The Bough & Bloom\n",
       "*   Harvest Stems\n",
       "*   Field & Forever\n",
       "*   The Seedling Still\n",
       "*   Prairie Petals\n",
       "\n",
       "**Playful & Whimsical:**\n",
       "\n",
       "*   The Never-Ending Bloom\n",
       "*   Fossilized Flora\n",
       "*   The Dried Daisy\n",
       "*   Bloomtique (Bloom + Boutique)\n",
       "*   Dusty Blooms\n",
       "\n",
       "**Location Specific (Adapt to your area):**\n",
       "\n",
       "*   (Your Town/Region) Dry Goods\n",
       "*   The (Your Street Name) Florist (if applicable)\n",
       "\n",
       "**Tips for Choosing:**\n",
       "\n",
       "*   **Consider your target audience:**  Are you aiming for a high-end clientele or a more casual, everyday buyer?\n",
       "*   **Check availability:**  Make sure the name isn't already in use in your area, and that the domain name and social media handles are available.\n",
       "*   **Say it out loud:**  Does it roll off the tongue easily?  Is it memorable?\n",
       "*   **Get feedback:**  Ask friends, family, or potential customers what they think of your top choices.\n",
       "\n",
       "I hope this helps!  Good luck!\n"
      ],
      "text/plain": [
       "<IPython.core.display.Markdown object>"
      ]
     },
     "metadata": {},
     "output_type": "display_data"
    }
   ],
   "source": [
    "prompt = \"Suggest a name for a flower shop that sells bouquets of dried flowers\"\n",
    "\n",
    "response = client.models.generate_content(model=MODEL_ID, contents=prompt)\n",
    "display(Markdown(response.text))"
   ]
  },
  {
   "cell_type": "markdown",
   "metadata": {
    "id": "eXTAvdOHY0OC"
   },
   "source": [
    "### Be specific, and well-defined"
   ]
  },
  {
   "cell_type": "markdown",
   "metadata": {
    "id": "FTH4GEIgY1dp"
   },
   "source": [
    "Suppose that you want to brainstorm creative ways to describe Earth."
   ]
  },
  {
   "cell_type": "markdown",
   "metadata": {
    "id": "o5BmXBiGY4KC"
   },
   "source": [
    "🛑 The prompt below might be a bit too generic (which is certainly OK if you'd like to ask a generic question!)"
   ]
  },
  {
   "cell_type": "code",
   "execution_count": 8,
   "metadata": {
    "id": "eHBaMvv7Y6mR",
    "tags": []
   },
   "outputs": [
    {
     "data": {
      "text/markdown": [
       "Alright, let's dive into the fascinating planet we call home: Earth! Here's a rundown of key aspects:\n",
       "\n",
       "**Basics:**\n",
       "\n",
       "*   **Name:** Earth (from the Old English word *eorþe* and the Middle English word *erthe*, meaning ground or soil)\n",
       "*   **Position:** Third planet from the Sun in our solar system.\n",
       "*   **Diameter:** Approximately 12,742 kilometers (7,918 miles).\n",
       "*   **Circumference:** Approximately 40,075 kilometers (24,901 miles).\n",
       "*   **Mass:** Approximately 5.97 x 10^24 kg (that's 5.97 followed by 24 zeros!).\n",
       "*   **Orbit:** Travels around the Sun in an elliptical orbit.\n",
       "*   **Orbital Period:** One year (approximately 365.25 days - hence leap years).\n",
       "*   **Rotation Period:** One day (approximately 24 hours). This rotation is responsible for day and night.\n",
       "*   **Atmosphere:** Primarily nitrogen (about 78%) and oxygen (about 21%), with trace amounts of other gases like argon, carbon dioxide, and water vapor.\n",
       "*   **Surface:** About 71% covered by water (oceans, lakes, rivers, ice), and 29% is land (continents, islands).\n",
       "*   **Moon:** One natural satellite, simply called \"The Moon.\"\n",
       "*   **Unique Feature:** As far as we know, it's the only planet in the universe known to harbor life.\n",
       "\n",
       "**Structure:**\n",
       "\n",
       "Earth has a layered structure:\n",
       "\n",
       "*   **Inner Core:** Solid iron and nickel. Extremely hot (estimated around 5,200°C or 9,392°F) and under immense pressure.\n",
       "*   **Outer Core:** Liquid iron and nickel.  The movement of this liquid generates Earth's magnetic field.\n",
       "*   **Mantle:** A mostly solid, rocky layer between the core and the crust. It makes up the largest part of Earth by volume.  The mantle is capable of slow, viscous flow.\n",
       "*   **Crust:** The outermost solid layer, relatively thin compared to the other layers.  It's divided into tectonic plates that float on the semi-molten asthenosphere (upper part of the mantle).  There are two types of crust:\n",
       "    *   **Oceanic Crust:** Thinner and denser, made mostly of basalt.\n",
       "    *   **Continental Crust:** Thicker and less dense, made mostly of granite.\n",
       "\n",
       "**Key Features & Processes:**\n",
       "\n",
       "*   **Plate Tectonics:** The Earth's lithosphere (crust and upper mantle) is broken into large plates that are constantly moving. This movement is responsible for:\n",
       "    *   **Earthquakes:** Sudden releases of energy along fault lines where plates interact.\n",
       "    *   **Volcanoes:**  Formations where molten rock (magma) erupts onto the surface, often at plate boundaries.\n",
       "    *   **Mountain Building:** Occurs when plates collide and buckle, or when volcanic activity builds up land.\n",
       "    *   **Continental Drift:** The slow movement of continents over millions of years.\n",
       "*   **Magnetic Field:** Generated by the movement of molten iron in the outer core. This field protects the Earth from harmful solar wind and cosmic radiation.  It's also what makes compasses work.\n",
       "*   **Atmosphere:** Crucial for life:\n",
       "    *   **Protects us from harmful radiation:** The ozone layer absorbs most of the Sun's ultraviolet (UV) radiation.\n",
       "    *   **Regulates temperature:** The greenhouse effect, caused by gases like carbon dioxide, water vapor, and methane, traps heat and keeps the planet warm enough to support liquid water.  (However, too much greenhouse gas can lead to climate change).\n",
       "    *   **Provides air to breathe:**  Oxygen is essential for most life on Earth.\n",
       "*   **Water Cycle:** The continuous circulation of water between the oceans, atmosphere, and land. This involves evaporation, condensation, precipitation, and runoff.\n",
       "*   **Biosphere:** The part of Earth where life exists.  This includes all living organisms and their interactions with the environment. Earth's biosphere is incredibly diverse, ranging from the deepest oceans to the highest mountains.\n",
       "\n",
       "**Life on Earth:**\n",
       "\n",
       "*   **Biodiversity:**  Earth is home to an astounding variety of life, from microscopic bacteria to giant whales.\n",
       "*   **Evolution:**  Life on Earth has evolved over billions of years through the process of natural selection.\n",
       "*   **Ecosystems:**  Communities of living organisms interacting with each other and their physical environment.\n",
       "*   **Human Impact:**  Human activities, such as burning fossil fuels, deforestation, and pollution, are having a significant impact on the Earth's climate, environment, and biodiversity.\n",
       "\n",
       "**Interesting Facts:**\n",
       "\n",
       "*   Earth is not perfectly spherical; it's slightly flattened at the poles and bulges at the equator (an oblate spheroid).\n",
       "*   The highest point on Earth is Mount Everest, and the lowest point is the Mariana Trench.\n",
       "*   Earth's gravity is not uniform across the planet.\n",
       "*   The Earth is constantly bombarded with meteoroids, but most of them burn up in the atmosphere.\n",
       "*   The Earth is estimated to be about 4.54 billion years old.\n",
       "\n",
       "**Ongoing Research:**\n",
       "\n",
       "Scientists are constantly studying the Earth to learn more about its history, structure, processes, and how to protect it.  Research areas include:\n",
       "\n",
       "*   **Climate Change:** Understanding the causes and impacts of climate change and developing solutions.\n",
       "*   **Plate Tectonics:** Studying the movement of tectonic plates and the hazards they cause (earthquakes, volcanoes).\n",
       "*   **The Deep Earth:** Investigating the Earth's core and mantle.\n",
       "*   **The Origin of Life:**  Exploring how life first arose on Earth.\n",
       "*   **Planetary Defense:** Developing strategies to protect Earth from asteroid impacts.\n",
       "\n",
       "This is just a brief overview, of course. Earth is an incredibly complex and dynamic planet, and there's always more to learn!  Do you have any specific areas you'd like to know more about?  For example, are you interested in:\n",
       "\n",
       "*   **Geology?**\n",
       "*   **Climate Science?**\n",
       "*   **Oceanography?**\n",
       "*   **Astronomy related to Earth?**\n",
       "*   **Environmental Issues?**\n",
       "\n",
       "Let me know and I can provide more detailed information.\n"
      ],
      "text/plain": [
       "<IPython.core.display.Markdown object>"
      ]
     },
     "metadata": {},
     "output_type": "display_data"
    }
   ],
   "source": [
    "prompt = \"Tell me about Earth\"\n",
    "\n",
    "response = client.models.generate_content(model=MODEL_ID, contents=prompt)\n",
    "display(Markdown(response.text))"
   ]
  },
  {
   "cell_type": "markdown",
   "metadata": {
    "id": "4iyvEbteZnFL"
   },
   "source": [
    "✅ Recommended. The prompt below is specific and well-defined."
   ]
  },
  {
   "cell_type": "code",
   "execution_count": 9,
   "metadata": {
    "id": "JQ80z8urZnne",
    "tags": []
   },
   "outputs": [
    {
     "data": {
      "text/markdown": [
       "Okay, here's a list of ways Earth stands out compared to other planets we know of, focusing on what makes it unique or at least unusually special:\n",
       "\n",
       "**Key Factors for Life & Habitability:**\n",
       "\n",
       "*   **Liquid Water on the Surface:** Earth is the only known planet with stable bodies of liquid water on its surface (oceans, lakes, rivers). This is crucial for life as we know it, acting as a solvent and medium for biochemical reactions. While other planets may have subsurface water, surface water is rare.\n",
       "*   **Oxygen-Rich Atmosphere:** Earth's atmosphere is uniquely rich in free oxygen (around 21%). This is primarily due to photosynthesis by plants and algae. Other planets have atmospheres, but their composition is vastly different (e.g., mostly carbon dioxide, methane, or hydrogen).\n",
       "*   **Plate Tectonics:** Earth is the only planet in our solar system with active plate tectonics. This process recycles nutrients, regulates temperature, and creates diverse landforms. It also helps in the carbon cycle.\n",
       "*   **Strong Magnetic Field:** Generated by its iron core, Earth's magnetic field deflects harmful solar wind and cosmic radiation, protecting the atmosphere and life on the surface.\n",
       "*   **Ozone Layer:** A layer of ozone in the stratosphere absorbs most of the Sun's harmful ultraviolet (UV) radiation, making the surface habitable.\n",
       "\n",
       "**Geological & Chemical Uniqueness:**\n",
       "\n",
       "*   **Abundant Life (Biosphere):** Earth is the only known planet to harbor a vast and diverse biosphere, with life in nearly every conceivable environment.\n",
       "*   **Complex Ecosystems:** The interactions between living organisms and their environment have created complex and interconnected ecosystems, which are not known to exist elsewhere.\n",
       "*   **Erosion and Weathering:** A combination of water, wind, and temperature fluctuations causes unique erosion and weathering patterns, shaping Earth's surface over time.\n",
       "*   **Presence of Fossil Fuels:** The accumulation of organic matter over millions of years has resulted in the formation of fossil fuels (coal, oil, natural gas), a unique geological feature.\n",
       "\n",
       "**Orbital & Solar System Context:**\n",
       "\n",
       "*   **\"Goldilocks\" Orbit:** Earth orbits the Sun at a distance that allows for temperatures suitable for liquid water, not too hot and not too cold.\n",
       "*   **Stable Climate (Relatively):** While Earth experiences climate change, it has a relatively stable climate compared to planets with extreme temperature swings. This stability has allowed life to evolve and flourish.\n",
       "*   **The Moon's Influence:** Earth's relatively large moon stabilizes its axial tilt, preventing extreme climate variations and influencing tides.\n",
       "\n",
       "**Other Considerations:**\n",
       "\n",
       "*   **Technological Civilization:** Earth is the only known planet with a technological civilization capable of altering its environment, communicating across vast distances, and exploring the universe.\n",
       "*   **Extensive Exploration:** Earth is the most extensively studied planet in the universe.\n",
       "*   **Visual Uniqueness:** From space, Earth is a \"blue marble\" with swirling clouds, green continents, and white polar ice caps.\n",
       "\n",
       "**Important Note:** Our understanding of exoplanets is still limited. As we discover and study more planets around other stars, we might find some that share some of these characteristics. However, the *combination* of all these factors making Earth habitable and home to life is still considered unique.\n"
      ],
      "text/plain": [
       "<IPython.core.display.Markdown object>"
      ]
     },
     "metadata": {},
     "output_type": "display_data"
    }
   ],
   "source": [
    "prompt = \"Generate a list of ways that makes Earth unique compared to other planets\"\n",
    "\n",
    "response = client.models.generate_content(model=MODEL_ID, contents=prompt)\n",
    "display(Markdown(response.text))"
   ]
  },
  {
   "cell_type": "markdown",
   "metadata": {
    "id": "R5kmfZYHZsJ7"
   },
   "source": [
    "### Ask one task at a time"
   ]
  },
  {
   "cell_type": "markdown",
   "metadata": {
    "id": "rsAezxeYZuUN"
   },
   "source": [
    "🛑 Not recommended. The prompt below has two parts to the question that could be asked separately."
   ]
  },
  {
   "cell_type": "code",
   "execution_count": 10,
   "metadata": {
    "id": "ElywPXpuZtWf",
    "tags": []
   },
   "outputs": [
    {
     "data": {
      "text/markdown": [
       "Let's tackle these two very different questions:\n",
       "\n",
       "**Best Method of Boiling Water:**\n",
       "\n",
       "There's no single \"best\" method, as it depends on your needs and the resources available. Here's a breakdown of common methods and their pros and cons:\n",
       "\n",
       "*   **Electric Kettle:**\n",
       "    *   **Pros:** Fast, energy-efficient for small volumes, convenient (auto shut-off), often relatively safe.\n",
       "    *   **Cons:** Requires electricity, limited capacity, may not be suitable for outdoor use.\n",
       "\n",
       "*   **Stovetop Kettle (Gas or Electric):**\n",
       "    *   **Pros:** Faster than a pot on the stovetop (due to design), doesn't require a specific appliance, can handle larger volumes.\n",
       "    *   **Cons:** Requires stovetop, can be slower than an electric kettle for small volumes, requires more monitoring.\n",
       "\n",
       "*   **Pot on the Stovetop (Gas or Electric):**\n",
       "    *   **Pros:** Versatile, can handle any volume, doesn't require specialized equipment.\n",
       "    *   **Cons:** Slower than kettles, less energy-efficient, requires more monitoring to prevent boiling over.\n",
       "\n",
       "*   **Microwave:**\n",
       "    *   **Pros:** Quick for small volumes, convenient.\n",
       "    *   **Cons:** Uneven heating can be a safety concern (superheating), not ideal for large volumes, can be messy if boils over.\n",
       "\n",
       "*   **Induction Cooktop:**\n",
       "    *   **Pros:** Very fast, energy-efficient, precise temperature control (depending on the cooktop).\n",
       "    *   **Cons:** Requires induction-compatible cookware, can be more expensive than other stovetops.\n",
       "\n",
       "*   **Camping Stove:**\n",
       "    *   **Pros:** Portable, essential for outdoor activities.\n",
       "    *   **Cons:** Can be slow depending on the stove and fuel, requires fuel, less convenient.\n",
       "\n",
       "*   **Fire (with a pot or kettle):**\n",
       "    *   **Pros:** Can be used in emergency situations or when other methods are unavailable.\n",
       "    *   **Cons:** Slow, smoky, requires careful tending, potential fire hazard, difficult to control temperature.\n",
       "\n",
       "**Therefore, the \"best\" method really depends on the situation:**\n",
       "\n",
       "*   **Quick and small volume:** Electric kettle\n",
       "*   **General stovetop use:** Stovetop Kettle\n",
       "*   **Outdoor/Camping:** Camping stove\n",
       "*   **Emergencies:** Fire\n",
       "\n",
       "**Why the Sky is Blue:**\n",
       "\n",
       "The sky is blue because of a phenomenon called **Rayleigh scattering**. Here's the explanation:\n",
       "\n",
       "1.  **Sunlight Enters the Atmosphere:** Sunlight, which appears white, is actually made up of all the colors of the rainbow.\n",
       "\n",
       "2.  **Light Interacts with Air Molecules:** As sunlight enters the Earth's atmosphere, it collides with tiny air molecules (mostly nitrogen and oxygen).\n",
       "\n",
       "3.  **Scattering Occurs:** This collision causes the sunlight to scatter in different directions.\n",
       "\n",
       "4.  **Rayleigh Scattering is Wavelength Dependent:** The amount of scattering depends on the wavelength of the light.  Shorter wavelengths (blue and violet) are scattered much more strongly than longer wavelengths (red and orange).  The scattering intensity is inversely proportional to the fourth power of the wavelength.\n",
       "\n",
       "5.  **Why Blue, Not Violet?:** Violet is scattered even more than blue. However, there are a few reasons why we perceive the sky as blue:\n",
       "    *   **Sunlight Spectrum:** The sun emits slightly less violet light than blue light.\n",
       "    *   **Atmospheric Absorption:** Some violet light is absorbed by the upper atmosphere.\n",
       "    *   **Our Eyes:** Our eyes are more sensitive to blue light than violet light.\n",
       "\n",
       "6.  **The Result:** Because blue light is scattered more effectively than other colors, it is dispersed throughout the atmosphere, making the sky appear blue to our eyes from almost every angle.\n",
       "\n",
       "**Sunset/Sunrise and Red Skies:**  At sunrise and sunset, the sunlight has to travel through much more of the atmosphere to reach our eyes.  This longer path means that most of the blue light has already been scattered away. The longer wavelengths (red and orange) are able to penetrate the atmosphere better and reach our eyes, resulting in the beautiful red and orange hues we see.\n"
      ],
      "text/plain": [
       "<IPython.core.display.Markdown object>"
      ]
     },
     "metadata": {},
     "output_type": "display_data"
    }
   ],
   "source": [
    "prompt = \"What's the best method of boiling water and why is the sky blue?\"\n",
    "\n",
    "response = client.models.generate_content(model=MODEL_ID, contents=prompt)\n",
    "display(Markdown(response.text))"
   ]
  },
  {
   "cell_type": "markdown",
   "metadata": {
    "id": "ejzahazBZ8vk"
   },
   "source": [
    "✅ Recommended. The prompts below asks one task a time."
   ]
  },
  {
   "cell_type": "code",
   "execution_count": 11,
   "metadata": {
    "id": "C5ckp2F0Z_Ba",
    "tags": []
   },
   "outputs": [
    {
     "data": {
      "text/markdown": [
       "The \"best\" method of boiling water depends on a few factors, including speed, energy efficiency, and the amount of water you need to boil. Here's a breakdown of the common methods, along with their pros and cons:\n",
       "\n",
       "**1. Electric Kettle:**\n",
       "\n",
       "*   **Pros:**\n",
       "    *   **Fastest:** Generally the fastest way to boil small to medium amounts of water (up to a liter or two).\n",
       "    *   **Energy Efficient:** Heats only the water needed, minimizing wasted energy.\n",
       "    *   **Convenient:** Auto shut-off for safety.\n",
       "    *   **Precise Temperature Control:** Some models offer adjustable temperature settings, ideal for tea and coffee brewing.\n",
       "    *   **Clean:** No stovetop required.\n",
       "*   **Cons:**\n",
       "    *   **Limited Capacity:** May not be suitable for very large quantities of water.\n",
       "    *   **Requires Electricity:** Dependent on a power source.\n",
       "    *   **Can be Noisy:** Some models can be quite loud while boiling.\n",
       "\n",
       "**2. Stovetop Kettle:**\n",
       "\n",
       "*   **Pros:**\n",
       "    *   **Versatile:** Works on gas, electric, or induction stovetops.\n",
       "    *   **Durable:** Typically made of stainless steel or enamel-coated steel, lasting for years.\n",
       "    *   **No Electricity Required (for gas stoves):** Good for power outages.\n",
       "    *   **Larger Capacity:** Can boil larger quantities than most electric kettles.\n",
       "*   **Cons:**\n",
       "    *   **Slower than Electric Kettles:** Takes longer to heat the water.\n",
       "    *   **Less Energy Efficient:** More energy is lost to the surrounding air.\n",
       "    *   **Requires Monitoring:** You need to watch it to prevent boiling dry.\n",
       "    *   **Can Be Unsafe if Forgotten:** If boiled dry it can warp or damage the kettle.\n",
       "\n",
       "**3. Microwave:**\n",
       "\n",
       "*   **Pros:**\n",
       "    *   **Fast:** Relatively quick for small amounts of water (e.g., one cup).\n",
       "    *   **Convenient:** Easily accessible in most kitchens.\n",
       "*   **Cons:**\n",
       "    *   **Uneven Heating:** Microwaves heat unevenly, leading to \"superheated\" water that can erupt violently when disturbed (like adding sugar or a tea bag). **This is a safety hazard!**\n",
       "    *   **Not Recommended:** Due to the risk of superheating, this method is generally discouraged.\n",
       "    *   **Difficult to Control:** Hard to know when the water is truly boiling.\n",
       "    *   **Not Energy Efficient:** Microwaves consume more energy than other methods for heating water.\n",
       "    *   **Plastic Contamination:** Heating water in plastic containers can leach chemicals into the water.\n",
       "\n",
       "**4. Saucepan on Stovetop:**\n",
       "\n",
       "*   **Pros:**\n",
       "    *   **Versatile:** Works on any stovetop.\n",
       "    *   **Large Quantities:** Suitable for boiling large amounts of water, like for pasta.\n",
       "*   **Cons:**\n",
       "    *   **Slowest:** The least efficient and slowest method.\n",
       "    *   **Very Inefficient:** Lots of heat loss.\n",
       "    *   **Requires Monitoring:**  Easy to forget and boil dry.\n",
       "\n",
       "**Summary Table:**\n",
       "\n",
       "| Method             | Speed      | Energy Efficiency | Capacity     | Convenience | Safety Concerns            | Best For                                  |\n",
       "|----------------------|------------|-------------------|-------------|--------------|------------------------------|---------------------------------------------|\n",
       "| Electric Kettle      | Fastest     | Highest           | Small/Medium | Very High    | None (with auto shut-off)   | Quick, small/medium amounts, precise temps |\n",
       "| Stovetop Kettle      | Medium     | Medium            | Medium/Large | Medium      | Boiling dry                 | Medium/Large amounts, no electricity      |\n",
       "| Microwave            | Fast       | Lowest           | Small        | High        | Superheating, plastic leaching | Avoid unless absolutely necessary              |\n",
       "| Saucepan on Stovetop | Slowest    | Lowest           | Large        | Low         | Boiling dry                 | Very large quantities, nothing else available |\n",
       "\n",
       "**Conclusion:**\n",
       "\n",
       "For most everyday purposes, an **electric kettle is the best option.** It's the fastest, most energy-efficient, and safest method for boiling water.  If you need to boil large quantities of water, a stovetop kettle is a good alternative. **Avoid using the microwave** whenever possible due to the risk of superheating.\n"
      ],
      "text/plain": [
       "<IPython.core.display.Markdown object>"
      ]
     },
     "metadata": {},
     "output_type": "display_data"
    }
   ],
   "source": [
    "prompt = \"What's the best method of boiling water?\"\n",
    "\n",
    "response = client.models.generate_content(model=MODEL_ID, contents=prompt)\n",
    "display(Markdown(response.text))"
   ]
  },
  {
   "cell_type": "code",
   "execution_count": 12,
   "metadata": {
    "id": "KwUzhud4aA89",
    "tags": []
   },
   "outputs": [
    {
     "data": {
      "text/markdown": [
       "The sky appears blue because of a phenomenon called **Rayleigh scattering**. Here's the breakdown:\n",
       "\n",
       "*   **Sunlight and Colors:** Sunlight is made up of all the colors of the rainbow.\n",
       "*   **Entering the Atmosphere:** When sunlight enters the Earth's atmosphere, it collides with tiny air molecules (mostly nitrogen and oxygen).\n",
       "*   **Scattering of Light:** This collision causes the sunlight to scatter in different directions.\n",
       "*   **Rayleigh Scattering:** Rayleigh scattering is more effective at scattering shorter wavelengths of light, like blue and violet.\n",
       "*   **Why Blue, Not Violet?** While violet light is scattered even more than blue, there are a couple of reasons why the sky appears blue instead of violet:\n",
       "    *   The sun emits less violet light than blue light.\n",
       "    *   The atmosphere absorbs some violet light.\n",
       "    *   Our eyes are more sensitive to blue light than violet light.\n",
       "*   **Blue Light Everywhere:** Because blue light is scattered more effectively in all directions, we see the sky as blue when we look away from the direct sunlight.\n",
       "\n",
       "**In simpler terms:**\n",
       "\n",
       "Imagine throwing a handful of tiny blue marbles and red marbles into a crowd. The blue marbles (blue light) are more likely to bounce off people (air molecules) and scatter in all directions. The red marbles (red light) are more likely to pass through without being deflected as much. That's why you see more blue marbles (blue sky) all around.\n",
       "\n",
       "**At Sunset/Sunrise:**\n",
       "\n",
       "The sky appears reddish at sunrise and sunset because the sunlight has to travel through a greater distance of the atmosphere to reach our eyes. This longer path means that most of the blue light has already been scattered away, leaving the longer wavelengths of red and orange light to dominate."
      ],
      "text/plain": [
       "<IPython.core.display.Markdown object>"
      ]
     },
     "metadata": {},
     "output_type": "display_data"
    }
   ],
   "source": [
    "prompt = \"Why is the sky blue?\"\n",
    "\n",
    "response = client.models.generate_content(model=MODEL_ID, contents=prompt)\n",
    "display(Markdown(response.text))"
   ]
  },
  {
   "cell_type": "markdown",
   "metadata": {
    "id": "PJIL2RTQaGcT"
   },
   "source": [
    "### Watch out for hallucinations"
   ]
  },
  {
   "cell_type": "markdown",
   "metadata": {
    "id": "8Y8kYxrSaHE9"
   },
   "source": [
    "Although LLMs have been trained on a large amount of data, they can generate text containing statements not grounded in truth or reality; these responses from the LLM are often referred to as \"hallucinations\" due to their limited memorization capabilities. Note that simply prompting the LLM to provide a citation isn't a fix to this problem, as there are instances of LLMs providing false or inaccurate citations. Dealing with hallucinations is a fundamental challenge of LLMs and an ongoing research area, so it is important to be cognizant that LLMs may seem to give you confident, correct-sounding statements that are in fact incorrect.\n",
    "\n",
    "Note that if you intend to use LLMs for the creative use cases, hallucinating could actually be quite useful."
   ]
  },
  {
   "cell_type": "markdown",
   "metadata": {
    "id": "8NY5nAGeaJYS"
   },
   "source": [
    "Try the prompt like the one below repeatedly. We set the temperature to `1.0` so that it takes more risks in its choices. It's possible that it may provide an inaccurate, but confident answer."
   ]
  },
  {
   "cell_type": "code",
   "execution_count": 13,
   "metadata": {
    "id": "QALPjEILaM62",
    "tags": []
   },
   "outputs": [
    {
     "data": {
      "text/markdown": [
       "Today is Sunday, October 29th, 2023.\n"
      ],
      "text/plain": [
       "<IPython.core.display.Markdown object>"
      ]
     },
     "metadata": {},
     "output_type": "display_data"
    }
   ],
   "source": [
    "generation_config = GenerateContentConfig(temperature=1.0)\n",
    "\n",
    "prompt = \"What day is it today?\"\n",
    "\n",
    "response = client.models.generate_content(model=MODEL_ID, contents=prompt)\n",
    "display(Markdown(response.text))"
   ]
  },
  {
   "cell_type": "markdown",
   "metadata": {
    "id": "BRkwzbgRbhKt"
   },
   "source": [
    "Since LLMs do not have access to real-time information without further integrations, you may have noticed it hallucinates what day it is today in some of the outputs."
   ]
  },
  {
   "cell_type": "markdown",
   "metadata": {},
   "source": [
    "## Reduce Output Variability"
   ]
  },
  {
   "cell_type": "markdown",
   "metadata": {
    "id": "3c811e310d02"
   },
   "source": [
    "### Using system instructions to guardrail the model from irrelevant responses\n",
    "\n",
    "How can we attempt to reduce the chances of irrelevant responses and hallucinations?\n",
    "\n",
    "One way is to provide the LLM with [system instructions](https://cloud.google.com/vertex-ai/generative-ai/docs/multimodal/send-chat-prompts-gemini#system-instructions).\n",
    "\n",
    "Let's see how system instructions works and how you can use them to reduce hallucinations or irrelevant questions for a travel chatbot.\n",
    "\n",
    "Suppose we ask a simple question about one of Italy's most famous tourist spots."
   ]
  },
  {
   "cell_type": "code",
   "execution_count": 14,
   "metadata": {
    "id": "rB6zJU76biFK",
    "tags": []
   },
   "outputs": [
    {
     "data": {
      "text/markdown": [
       "The best place for sightseeing in Milan is the Duomo di Milano. It is the city's cathedral and is known for its beautiful architecture and stunning views from the rooftop.\n"
      ],
      "text/plain": [
       "<IPython.core.display.Markdown object>"
      ]
     },
     "metadata": {},
     "output_type": "display_data"
    }
   ],
   "source": [
    "generation_config = GenerateContentConfig(temperature=1.0)\n",
    "\n",
    "chat = client.chats.create(\n",
    "    model=MODEL_ID,\n",
    "    config=GenerateContentConfig(\n",
    "        system_instruction=[\n",
    "            \"Hello! You are an AI chatbot for a travel web site.\",\n",
    "            \"Your mission is to provide helpful queries for travelers.\",\n",
    "            \"Remember that before you answer a question, you must check to see if it complies with your mission.\",\n",
    "            \"If not, you can say, Sorry I can't answer that question.\",\n",
    "        ]\n",
    "    ),\n",
    ")\n",
    "\n",
    "prompt = \"What is the best place for sightseeing in Milan, Italy?\"\n",
    "\n",
    "response = chat.send_message(prompt)\n",
    "display(Markdown(response.text))"
   ]
  },
  {
   "cell_type": "markdown",
   "metadata": {
    "id": "WZa-Qcf9cF4A"
   },
   "source": [
    "Now let us pretend to be a user asks the chatbot a question that is unrelated to travel."
   ]
  },
  {
   "cell_type": "code",
   "execution_count": 15,
   "metadata": {
    "id": "AZKBIDr2cGnu",
    "tags": []
   },
   "outputs": [
    {
     "data": {
      "text/markdown": [
       "The Duomo di Milano, Galleria Vittorio Emanuele II, and Sforza Castle are popular sightseeing spots in Milan, Italy.\n"
      ],
      "text/plain": [
       "<IPython.core.display.Markdown object>"
      ]
     },
     "metadata": {},
     "output_type": "display_data"
    }
   ],
   "source": [
    "prompt = \"What is the best place for sightseeing in Milan, Italy?\"\n",
    "\n",
    "response = chat.send_message(prompt)\n",
    "display(Markdown(response.text))"
   ]
  },
  {
   "cell_type": "markdown",
   "metadata": {
    "id": "JiUYIhwpctCy"
   },
   "source": [
    "You can see that this way, a guardrail in the prompt prevented the chatbot from veering off course."
   ]
  },
  {
   "cell_type": "markdown",
   "metadata": {
    "id": "ZuuDhA37cvmP"
   },
   "source": [
    "### Turn generative tasks into classification tasks to reduce output variability"
   ]
  },
  {
   "cell_type": "markdown",
   "metadata": {
    "id": "kUCUrsUzczmb"
   },
   "source": [
    "#### Generative tasks lead to higher output variability"
   ]
  },
  {
   "cell_type": "markdown",
   "metadata": {
    "id": "a1xASHAkc46n"
   },
   "source": [
    "The prompt below results in an open-ended response, useful for brainstorming, but response is highly variable."
   ]
  },
  {
   "cell_type": "code",
   "execution_count": 16,
   "metadata": {
    "id": "nPfXQWIacwRf",
    "tags": []
   },
   "outputs": [
    {
     "data": {
      "text/markdown": [
       "Okay, based on the fact that you're a high school student, here are a few programming activity recommendations, categorized by increasing complexity and with different focuses.  I'll try to give you ideas that are challenging but achievable and that will help you learn useful skills.\n",
       "\n",
       "**Option 1: Beginner-Friendly (Focus: Fundamentals, Problem Solving)**\n",
       "\n",
       "*   **Project:** **Simple Text-Based Game (e.g., Number Guessing Game, Simple Text Adventure)**\n",
       "\n",
       "    *   **Description:** Build a game where the user interacts with the program through the console.\n",
       "    *   **Languages:** Python (easiest to get started with), Java, or C++ (if you want more of a challenge early on).\n",
       "    *   **Skills Learned:**\n",
       "        *   Input/Output (getting user input, displaying results).\n",
       "        *   Variables and Data Types.\n",
       "        *   Conditional Statements (if/else).\n",
       "        *   Loops (for, while).\n",
       "        *   Basic Logic.\n",
       "        *   Random Number Generation (for the guessing game).\n",
       "        *   String Manipulation (for text adventure).\n",
       "    *   **Example Python Code (Number Guessing):**\n",
       "\n",
       "```python\n",
       "import random\n",
       "\n",
       "def number_guessing_game():\n",
       "    secret_number = random.randint(1, 100)\n",
       "    guesses_left = 7  #Adjust this to change difficulty\n",
       "\n",
       "    print(\"I'm thinking of a number between 1 and 100.\")\n",
       "\n",
       "    while guesses_left > 0:\n",
       "        try:\n",
       "            guess = int(input(f\"You have {guesses_left} guesses left. Enter your guess: \"))\n",
       "        except ValueError:\n",
       "            print(\"Invalid input.  Please enter a number.\")\n",
       "            continue #Go back to the top of the loop\n",
       "\n",
       "        if guess == secret_number:\n",
       "            print(\"Congratulations! You guessed the number!\")\n",
       "            return\n",
       "\n",
       "        elif guess < secret_number:\n",
       "            print(\"Too low.\")\n",
       "        else:\n",
       "            print(\"Too high.\")\n",
       "\n",
       "        guesses_left -= 1\n",
       "\n",
       "    print(f\"You ran out of guesses. The number was {secret_number}.\")\n",
       "\n",
       "number_guessing_game() #Run the game\n",
       "```\n",
       "\n",
       "    *   **Why it's good:** It's a fun way to practice the basics. You can gradually add features (e.g., difficulty levels, hints).\n",
       "\n",
       "**Option 2: Intermediate (Focus: Object-Oriented Programming, Data Structures)**\n",
       "\n",
       "*   **Project:** **Simple To-Do List Application (GUI or Command Line)**\n",
       "\n",
       "    *   **Description:**  Create an application that allows users to add, remove, and view items on a to-do list.  Optionally, save the list to a file for persistence.\n",
       "    *   **Languages:** Python (with Tkinter or PyQt for a GUI, or just stick to the console), Java (with Swing or JavaFX for a GUI), C++ (with Qt for a GUI).\n",
       "    *   **Skills Learned:**\n",
       "        *   Object-Oriented Programming (OOP) principles (classes, objects, inheritance - if you want to go that far).\n",
       "        *   Data Structures (lists, arrays, dictionaries/maps).\n",
       "        *   GUI Programming (optional, adds complexity).\n",
       "        *   File Input/Output (optional, for saving/loading the list).\n",
       "        *   User Interface Design (even a simple text-based UI requires thought).\n",
       "    *   **Breakdown:**\n",
       "        1.  **Core Logic:** Implement the functions to add, delete, and view tasks. This likely involves a list (array) of `Task` objects.\n",
       "        2.  **Command Line Interface (CLI):** If not doing a GUI, write a loop that prompts the user for commands (add, delete, view, quit) and calls the appropriate functions.\n",
       "        3.  **GUI (Optional):** If choosing a GUI, learn how to create windows, buttons, text boxes, and how to connect user actions (button clicks) to your code.  Tkinter (Python), Swing/JavaFX (Java), or Qt (C++) are common choices.\n",
       "        4.  **Persistence (Optional):** Learn how to save the list of tasks to a file (e.g., a text file or a JSON file) and load it when the application starts.\n",
       "\n",
       "*   **Project:** **Simple Calculator Application (GUI)**\n",
       "    *   **Description:** Build a calculator with basic arithmetic operations (+, -, *, /).\n",
       "    *   **Languages:** Python (with Tkinter or PyQt), Java (with Swing or JavaFX), C++ (with Qt).\n",
       "    *   **Skills Learned:**\n",
       "        *   GUI Programming.\n",
       "        *   Event Handling (responding to button clicks).\n",
       "        *   String Parsing (converting user input into numbers).\n",
       "        *   Order of Operations (implementing PEMDAS/BODMAS).\n",
       "        *   Error Handling (dealing with invalid input, division by zero).\n",
       "\n",
       "**Option 3: More Advanced (Focus: Algorithms, Data Structures, Libraries)**\n",
       "\n",
       "*   **Project:** **Web Scraper (Extract Data from a Website)**\n",
       "\n",
       "    *   **Description:** Write a program that automatically extracts specific data from a website.  For example, scrape product prices from an e-commerce site, or extract news headlines from a news site.\n",
       "    *   **Languages:** Python (with libraries like `requests` and `BeautifulSoup`), Java (with libraries like `Jsoup`).\n",
       "    *   **Skills Learned:**\n",
       "        *   HTTP Requests (getting data from the web).\n",
       "        *   HTML Parsing (understanding the structure of web pages).\n",
       "        *   Regular Expressions (optional, but useful for pattern matching).\n",
       "        *   Data Extraction.\n",
       "        *   Ethical Considerations (be respectful of websites; don't overload their servers).  *Always* check the website's `robots.txt` file.\n",
       "    *   **Example (Python):**\n",
       "\n",
       "```python\n",
       "import requests\n",
       "from bs4 import BeautifulSoup\n",
       "\n",
       "def scrape_titles(url):\n",
       "  try:\n",
       "    response = requests.get(url)\n",
       "    response.raise_for_status()  # Raise HTTPError for bad responses (4xx or 5xx)\n",
       "\n",
       "    soup = BeautifulSoup(response.content, 'html.parser')\n",
       "    titles = soup.find_all('h2') #Finds all 'h2' tags (change this as needed)\n",
       "\n",
       "    for title in titles:\n",
       "      print(title.text.strip())\n",
       "\n",
       "  except requests.exceptions.RequestException as e:\n",
       "    print(f\"Error during request to {url}: {e}\")\n",
       "  except Exception as e:\n",
       "    print(f\"An error occurred: {e}\")\n",
       "\n",
       "# Example usage: Scrape titles from a hypothetical website\n",
       "scrape_titles(\"https://example.com/news\") #Replace this with an actual URL\n",
       "\n",
       "```\n",
       "\n",
       "*   **Project:** **Simple Chat Application (Client-Server)**\n",
       "\n",
       "    *   **Description:** Create a basic chat application where users can send and receive messages.  This requires creating both a server and a client.\n",
       "    *   **Languages:** Python (with the `socket` library), Java (with the `java.net` package).\n",
       "    *   **Skills Learned:**\n",
       "        *   Networking (understanding sockets and TCP/IP).\n",
       "        *   Client-Server Architecture.\n",
       "        *   Multithreading (to handle multiple clients simultaneously).\n",
       "        *   Data Serialization (converting data to be sent over the network).\n",
       "\n",
       "**Important Considerations for Choosing a Project:**\n",
       "\n",
       "*   **Your Skill Level:** Be realistic about what you can accomplish. Start with a simpler project if you're a beginner.\n",
       "*   **Your Interests:** Choose a project that you find interesting. You'll be more motivated to stick with it.\n",
       "*   **Time Commitment:** Consider how much time you have available. Some projects will take longer than others.\n",
       "*   **Resources:** Make sure there are tutorials, documentation, and examples available for the language and libraries you're using.\n",
       "*   **Break it Down:** Complex projects should be broken down into smaller, manageable tasks.\n",
       "*   **Don't be Afraid to Ask for Help:** Use online forums, communities, or ask a teacher/mentor for help when you get stuck.\n",
       "*   **Version Control (Git):**  Learn to use Git and GitHub. It's an essential skill for any programmer.\n",
       "\n",
       "**Tips for Success:**\n",
       "\n",
       "*   **Start Small:** Don't try to build the perfect application right away. Start with the core functionality and then add features incrementally.\n",
       "*   **Write Clean Code:** Use meaningful variable names, add comments, and follow coding conventions.\n",
       "*   **Test Your Code Regularly:** Test your code as you write it to catch errors early.\n",
       "*   **Debug Effectively:** Learn how to use debugging tools to find and fix errors.\n",
       "*   **Document Your Code:** Write documentation to explain how your code works.  This will help you (and others) understand it later.\n",
       "*   **Practice Regularly:** The more you practice, the better you'll become at programming.\n",
       "\n",
       "Good luck with your programming journey!  Let me know if you have any more questions or want more specific advice once you've chosen a project.\n"
      ],
      "text/plain": [
       "<IPython.core.display.Markdown object>"
      ]
     },
     "metadata": {},
     "output_type": "display_data"
    }
   ],
   "source": [
    "prompt = \"I'm a high school student. Recommend me a programming activity to improve my skills.\"\n",
    "\n",
    "response = client.models.generate_content(model=MODEL_ID, contents=prompt)\n",
    "display(Markdown(response.text))"
   ]
  },
  {
   "cell_type": "markdown",
   "metadata": {
    "id": "iAmm9wPYc_1o"
   },
   "source": [
    "#### Classification tasks reduces output variability"
   ]
  },
  {
   "cell_type": "markdown",
   "metadata": {
    "id": "VvRpK_0GdCpf"
   },
   "source": [
    "The prompt below results in a choice and may be useful if you want the output to be easier to control."
   ]
  },
  {
   "cell_type": "code",
   "execution_count": 18,
   "metadata": {
    "id": "kYDKh0r2dAqo",
    "tags": []
   },
   "outputs": [
    {
     "data": {
      "text/markdown": [
       "For a high school student, I strongly recommend **a) learn Python** over JavaScript or Fortran. Here's why:\n",
       "\n",
       "*   **Python is Versatile:** Python can be used for a wide range of applications, including:\n",
       "    *   **Data Science/Analysis:** Perfect for working with datasets, creating visualizations, and performing statistical analysis. This is a HUGE growth area with lots of career opportunities.\n",
       "    *   **Web Development (Backend):** Frameworks like Django and Flask make it easy to build web applications.\n",
       "    *   **Automation:** Automate repetitive tasks on your computer, making your life easier.\n",
       "    *   **Game Development:** Using libraries like Pygame, you can create simple games.\n",
       "    *   **Machine Learning/Artificial Intelligence:**  Python is the dominant language in this field, thanks to libraries like TensorFlow and PyTorch.\n",
       "    *   **Scripting:**  Useful for automating tasks in operating systems.\n",
       "*   **Python is Beginner-Friendly:**\n",
       "    *   **Clean Syntax:** Python has a relatively simple and readable syntax compared to JavaScript and especially Fortran. This makes it easier to learn the basics of programming.\n",
       "    *   **Large Community and Plenty of Resources:**  Tons of online tutorials, courses, documentation, and helpful communities are available. If you get stuck, it's easy to find help.\n",
       "    *   **Easier to Debug:**  The clear syntax makes it easier to spot errors.\n",
       "*   **Future-Proof:**  Python is highly sought after in many industries, meaning the skills you learn now will be valuable for college and future career prospects.\n",
       "*   **Motivating Projects:** Python makes it easy to create cool projects that will keep you engaged and motivated to learn.  For example, you could:\n",
       "    *   Build a simple calculator.\n",
       "    *   Create a text-based adventure game.\n",
       "    *   Analyze your own social media data (with appropriate permissions).\n",
       "    *   Automate a task like downloading files from a website.\n",
       "\n",
       "**Why not JavaScript or Fortran?**\n",
       "\n",
       "*   **JavaScript:** While JavaScript is extremely important for front-end web development (making websites interactive), it has a steeper learning curve initially because you need to understand HTML and CSS *first*. It's also a bit more forgiving (sometimes frustratingly so) in its error handling, which can make debugging trickier for beginners. JavaScript is powerful, but I think Python is a better *starting* point.\n",
       "\n",
       "*   **Fortran:** Fortran is primarily used in scientific and engineering computing. While it's still important in those fields, it's not as widely applicable as Python.  The syntax is older and less beginner-friendly, and the community is smaller. Unless you *specifically* have an interest in scientific computing or your school is requiring it for a specific course, it's not the best choice for a general-purpose language for a high schooler.\n",
       "\n",
       "**In summary:**\n",
       "\n",
       "Python is the best choice for a high school student because it's versatile, beginner-friendly, has a large community, and provides numerous opportunities for interesting and engaging projects. It's also a highly valuable skill to have for the future.  Start with Python, and if you find a particular area that interests you (like web development), you can always learn JavaScript later.\n",
       "\n",
       "Good luck with your programming journey!\n"
      ],
      "text/plain": [
       "<IPython.core.display.Markdown object>"
      ]
     },
     "metadata": {},
     "output_type": "display_data"
    }
   ],
   "source": [
    "prompt = \"\"\"I'm a high school student. Which of these activities do you suggest and why:\n",
    "a) learn Python\n",
    "b) learn JavaScript\n",
    "c) learn Fortran\n",
    "\"\"\"\n",
    "\n",
    "response = client.models.generate_content(model=MODEL_ID, contents=prompt)\n",
    "display(Markdown(response.text))"
   ]
  },
  {
   "cell_type": "markdown",
   "metadata": {
    "id": "iTd60b1GdIsx"
   },
   "source": [
    "### Improve response quality by including examples"
   ]
  },
  {
   "cell_type": "markdown",
   "metadata": {
    "id": "yJi44NejdJYE"
   },
   "source": [
    "Another way to improve response quality is to add examples in your prompt. The LLM learns in-context from the examples on how to respond. Typically, one to five examples (shots) are enough to improve the quality of responses. Including too many examples can cause the model to over-fit the data and reduce the quality of responses.\n",
    "\n",
    "Similar to classical model training, the quality and distribution of the examples is very important. Pick examples that are representative of the scenarios that you need the model to learn, and keep the distribution of the examples (e.g. number of examples per class in the case of classification) aligned with your actual distribution."
   ]
  },
  {
   "cell_type": "markdown",
   "metadata": {
    "id": "sMbLginWdOKs"
   },
   "source": [
    "#### Zero-shot prompt"
   ]
  },
  {
   "cell_type": "markdown",
   "metadata": {
    "id": "Crh2Loi2dQ0v"
   },
   "source": [
    "Below is an example of zero-shot prompting, where you don't provide any examples to the LLM within the prompt itself."
   ]
  },
  {
   "cell_type": "code",
   "execution_count": 19,
   "metadata": {
    "id": "-7myRc-SdTQ4",
    "tags": []
   },
   "outputs": [
    {
     "data": {
      "text/markdown": [
       "Positive\n"
      ],
      "text/plain": [
       "<IPython.core.display.Markdown object>"
      ]
     },
     "metadata": {},
     "output_type": "display_data"
    }
   ],
   "source": [
    "prompt = \"\"\"Decide whether a Tweet's sentiment is positive, neutral, or negative.\n",
    "\n",
    "Tweet: I loved the new YouTube video you made!\n",
    "Sentiment:\n",
    "\"\"\"\n",
    "\n",
    "response = client.models.generate_content(model=MODEL_ID, contents=prompt)\n",
    "display(Markdown(response.text))"
   ]
  },
  {
   "cell_type": "markdown",
   "metadata": {
    "id": "ucRtPn9SdL64"
   },
   "source": [
    "#### One-shot prompt"
   ]
  },
  {
   "cell_type": "markdown",
   "metadata": {
    "id": "rs0gQH2vdYBi"
   },
   "source": [
    "Below is an example of one-shot prompting, where you provide one example to the LLM within the prompt to give some guidance on what type of response you want."
   ]
  },
  {
   "cell_type": "code",
   "execution_count": 20,
   "metadata": {
    "id": "iEq-KxGYdaT5",
    "tags": []
   },
   "outputs": [
    {
     "data": {
      "text/markdown": [
       "Sentiment: negative\n"
      ],
      "text/plain": [
       "<IPython.core.display.Markdown object>"
      ]
     },
     "metadata": {},
     "output_type": "display_data"
    }
   ],
   "source": [
    "prompt = \"\"\"Decide whether a Tweet's sentiment is positive, neutral, or negative.\n",
    "\n",
    "Tweet: I loved the new YouTube video you made!\n",
    "Sentiment: positive\n",
    "\n",
    "Tweet: That was awful. Super boring 😠\n",
    "Sentiment:\n",
    "\"\"\"\n",
    "\n",
    "response = client.models.generate_content(model=MODEL_ID, contents=prompt)\n",
    "display(Markdown(response.text))"
   ]
  },
  {
   "cell_type": "markdown",
   "metadata": {
    "id": "JnKLjJzmdfL_"
   },
   "source": [
    "#### Few-shot prompt"
   ]
  },
  {
   "cell_type": "markdown",
   "metadata": {
    "id": "6Zv-9F5OdgI_"
   },
   "source": [
    "Below is an example of few-shot prompting, where you provide a few examples to the LLM within the prompt to give some guidance on what type of response you want."
   ]
  },
  {
   "cell_type": "code",
   "execution_count": 21,
   "metadata": {
    "id": "u37P9tG4dk9S",
    "tags": []
   },
   "outputs": [
    {
     "data": {
      "text/markdown": [
       "Sentiment: positive\n"
      ],
      "text/plain": [
       "<IPython.core.display.Markdown object>"
      ]
     },
     "metadata": {},
     "output_type": "display_data"
    }
   ],
   "source": [
    "prompt = \"\"\"Decide whether a Tweet's sentiment is positive, neutral, or negative.\n",
    "\n",
    "Tweet: I loved the new YouTube video you made!\n",
    "Sentiment: positive\n",
    "\n",
    "Tweet: That was awful. Super boring 😠\n",
    "Sentiment: negative\n",
    "\n",
    "Tweet: Something surprised me about this video - it was actually original. It was not the same old recycled stuff that I always see. Watch it - you will not regret it.\n",
    "Sentiment:\n",
    "\"\"\"\n",
    "\n",
    "response = client.models.generate_content(model=MODEL_ID, contents=prompt)\n",
    "display(Markdown(response.text))"
   ]
  },
  {
   "cell_type": "markdown",
   "metadata": {
    "id": "wDMD3xb2dvX6"
   },
   "source": [
    "#### Choosing between zero-shot, one-shot, few-shot prompting methods"
   ]
  },
  {
   "cell_type": "markdown",
   "metadata": {
    "id": "s92W0YpNdxJp"
   },
   "source": [
    "Which prompt technique to use will solely depends on your goal. The zero-shot prompts are more open-ended and can give you creative answers, while one-shot and few-shot prompts teach the model how to behave so you can get more predictable answers that are consistent with the examples provided."
   ]
  }
 ],
 "metadata": {
  "colab": {
   "name": "intro_prompt_design.ipynb",
   "toc_visible": true
  },
  "environment": {
   "kernel": "conda-base-py",
   "name": "workbench-notebooks.m129",
   "type": "gcloud",
   "uri": "us-docker.pkg.dev/deeplearning-platform-release/gcr.io/workbench-notebooks:m129"
  },
  "kernelspec": {
   "display_name": "Python 3 (ipykernel) (Local) (Local)",
   "language": "python",
   "name": "conda-base-py"
  },
  "language_info": {
   "codemirror_mode": {
    "name": "ipython",
    "version": 3
   },
   "file_extension": ".py",
   "mimetype": "text/x-python",
   "name": "python",
   "nbconvert_exporter": "python",
   "pygments_lexer": "ipython3",
   "version": "3.10.16"
  }
 },
 "nbformat": 4,
 "nbformat_minor": 4
}
